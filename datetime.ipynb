{
 "cells": [
  {
   "cell_type": "code",
   "execution_count": 1,
   "metadata": {},
   "outputs": [],
   "source": [
    "# requirement\n",
    "import pandas as pd\n",
    "import numpy as np\n",
    "import datetime as dt"
   ]
  },
  {
   "cell_type": "code",
   "execution_count": 2,
   "metadata": {},
   "outputs": [
    {
     "output_type": "execute_result",
     "data": {
      "text/plain": "DatetimeIndex(['2018-01-01', '2018-01-01', '2018-01-01'], dtype='datetime64[ns]', freq=None)"
     },
     "metadata": {},
     "execution_count": 2
    }
   ],
   "source": [
    "dti = pd.to_datetime(['1/1/2018', np.datetime64('2018-01-01'),dt.datetime(2018, 1, 1)])\n",
    "dti"
   ]
  },
  {
   "cell_type": "code",
   "execution_count": 3,
   "metadata": {},
   "outputs": [
    {
     "output_type": "execute_result",
     "data": {
      "text/plain": "DatetimeIndex(['2018-01-01 00:00:00', '2018-01-01 01:00:00',\n               '2018-01-01 02:00:00', '2018-01-01 03:00:00',\n               '2018-01-01 04:00:00'],\n              dtype='datetime64[ns]', freq='H')"
     },
     "metadata": {},
     "execution_count": 3
    }
   ],
   "source": [
    "dti = pd.date_range('2018-01-01', periods=5, freq='H')\n",
    "dti"
   ]
  },
  {
   "cell_type": "code",
   "execution_count": 4,
   "metadata": {},
   "outputs": [
    {
     "output_type": "execute_result",
     "data": {
      "text/plain": "DatetimeIndex(['2018-01-01 00:00:00+00:00', '2018-01-01 01:00:00+00:00',\n               '2018-01-01 02:00:00+00:00', '2018-01-01 03:00:00+00:00',\n               '2018-01-01 04:00:00+00:00'],\n              dtype='datetime64[ns, UTC]', freq='H')"
     },
     "metadata": {},
     "execution_count": 4
    }
   ],
   "source": [
    "dti = dti.tz_localize('UTC')\n",
    "dti"
   ]
  },
  {
   "cell_type": "code",
   "execution_count": 5,
   "metadata": {},
   "outputs": [
    {
     "output_type": "execute_result",
     "data": {
      "text/plain": "DatetimeIndex(['2018-01-01 00:00:00+00:00', '2018-01-01 01:00:00+00:00',\n               '2018-01-01 02:00:00+00:00', '2018-01-01 03:00:00+00:00',\n               '2018-01-01 04:00:00+00:00'],\n              dtype='datetime64[ns, UTC]', freq='H')"
     },
     "metadata": {},
     "execution_count": 5
    }
   ],
   "source": [
    "dti.tz_convert('US/Pacific')\n",
    "dti"
   ]
  }
 ],
 "metadata": {
  "language_info": {
   "codemirror_mode": {
    "name": "ipython",
    "version": 3
   },
   "file_extension": ".py",
   "mimetype": "text/x-python",
   "name": "python",
   "nbconvert_exporter": "python",
   "pygments_lexer": "ipython3",
   "version": "3.7.7-final"
  },
  "orig_nbformat": 2,
  "kernelspec": {
   "name": "python3",
   "display_name": "Python 3"
  }
 },
 "nbformat": 4,
 "nbformat_minor": 2
}