{
 "cells": [
  {
   "cell_type": "code",
   "execution_count": 1,
   "metadata": {},
   "outputs": [],
   "source": [
    "# requirement\n",
    "\n",
    "import pandas as pd\n",
    "import numpy as np\n",
    "import datetime as dt"
   ]
  },
  {
   "cell_type": "code",
   "execution_count": 9,
   "metadata": {},
   "outputs": [
    {
     "output_type": "execute_result",
     "data": {
      "text/plain": "         age gender  occupation zip_code\nuser_id                                 \n1         24      M  technician    85711\n2         53      F       other    94043\n3         23      M      writer    32067\n4         24      M  technician    43537\n5         33      F       other    15213",
      "text/html": "<div>\n<style scoped>\n    .dataframe tbody tr th:only-of-type {\n        vertical-align: middle;\n    }\n\n    .dataframe tbody tr th {\n        vertical-align: top;\n    }\n\n    .dataframe thead th {\n        text-align: right;\n    }\n</style>\n<table border=\"1\" class=\"dataframe\">\n  <thead>\n    <tr style=\"text-align: right;\">\n      <th></th>\n      <th>age</th>\n      <th>gender</th>\n      <th>occupation</th>\n      <th>zip_code</th>\n    </tr>\n    <tr>\n      <th>user_id</th>\n      <th></th>\n      <th></th>\n      <th></th>\n      <th></th>\n    </tr>\n  </thead>\n  <tbody>\n    <tr>\n      <th>1</th>\n      <td>24</td>\n      <td>M</td>\n      <td>technician</td>\n      <td>85711</td>\n    </tr>\n    <tr>\n      <th>2</th>\n      <td>53</td>\n      <td>F</td>\n      <td>other</td>\n      <td>94043</td>\n    </tr>\n    <tr>\n      <th>3</th>\n      <td>23</td>\n      <td>M</td>\n      <td>writer</td>\n      <td>32067</td>\n    </tr>\n    <tr>\n      <th>4</th>\n      <td>24</td>\n      <td>M</td>\n      <td>technician</td>\n      <td>43537</td>\n    </tr>\n    <tr>\n      <th>5</th>\n      <td>33</td>\n      <td>F</td>\n      <td>other</td>\n      <td>15213</td>\n    </tr>\n  </tbody>\n</table>\n</div>"
     },
     "metadata": {},
     "execution_count": 9
    }
   ],
   "source": [
    "url = 'https://raw.githubusercontent.com/justmarkham/DAT8/master/data/u.user'\n",
    "users = pd.read_csv(url,sep='|',index_col='user_id')\n",
    "users.head()"
   ]
  },
  {
   "cell_type": "code",
   "execution_count": 37,
   "metadata": {},
   "outputs": [],
   "source": [
    "\n",
    "def age_buckets(x): \n",
    "    if x < 30: \n",
    "        return '18-29' \n",
    "    elif x < 40: \n",
    "        return '30-39' \n",
    "    elif x < 50: \n",
    "        return '40-49' \n",
    "    elif x < 60: \n",
    "        return '50-59' \n",
    "    elif x < 70: \n",
    "        return '60-69' \n",
    "    elif x >=70: \n",
    "        return '70+' \n",
    "    else: \n",
    "        return 'other'"
   ]
  },
  {
   "cell_type": "code",
   "execution_count": 40,
   "metadata": {},
   "outputs": [
    {
     "output_type": "execute_result",
     "data": {
      "text/plain": "          age                                                    \n        count       mean       std   min   25%   50%    75%   max\nage_gp                                                           \n18-29   409.0  23.168704  4.078687   7.0  20.0  24.0  27.00  29.0\n30-39   241.0  33.962656  2.951457  30.0  31.0  34.0  36.00  39.0\n40-49   168.0  44.517857  2.958745  40.0  42.0  44.0  47.00  49.0\n50-59    94.0  53.074468  2.732675  50.0  51.0  53.0  55.00  59.0\n60-69    27.0  62.925926  3.037280  60.0  60.0  62.0  65.00  69.0\n70+       4.0  70.750000  1.500000  70.0  70.0  70.0  70.75  73.0",
      "text/html": "<div>\n<style scoped>\n    .dataframe tbody tr th:only-of-type {\n        vertical-align: middle;\n    }\n\n    .dataframe tbody tr th {\n        vertical-align: top;\n    }\n\n    .dataframe thead tr th {\n        text-align: left;\n    }\n\n    .dataframe thead tr:last-of-type th {\n        text-align: right;\n    }\n</style>\n<table border=\"1\" class=\"dataframe\">\n  <thead>\n    <tr>\n      <th></th>\n      <th colspan=\"8\" halign=\"left\">age</th>\n    </tr>\n    <tr>\n      <th></th>\n      <th>count</th>\n      <th>mean</th>\n      <th>std</th>\n      <th>min</th>\n      <th>25%</th>\n      <th>50%</th>\n      <th>75%</th>\n      <th>max</th>\n    </tr>\n    <tr>\n      <th>age_gp</th>\n      <th></th>\n      <th></th>\n      <th></th>\n      <th></th>\n      <th></th>\n      <th></th>\n      <th></th>\n      <th></th>\n    </tr>\n  </thead>\n  <tbody>\n    <tr>\n      <th>18-29</th>\n      <td>409.0</td>\n      <td>23.168704</td>\n      <td>4.078687</td>\n      <td>7.0</td>\n      <td>20.0</td>\n      <td>24.0</td>\n      <td>27.00</td>\n      <td>29.0</td>\n    </tr>\n    <tr>\n      <th>30-39</th>\n      <td>241.0</td>\n      <td>33.962656</td>\n      <td>2.951457</td>\n      <td>30.0</td>\n      <td>31.0</td>\n      <td>34.0</td>\n      <td>36.00</td>\n      <td>39.0</td>\n    </tr>\n    <tr>\n      <th>40-49</th>\n      <td>168.0</td>\n      <td>44.517857</td>\n      <td>2.958745</td>\n      <td>40.0</td>\n      <td>42.0</td>\n      <td>44.0</td>\n      <td>47.00</td>\n      <td>49.0</td>\n    </tr>\n    <tr>\n      <th>50-59</th>\n      <td>94.0</td>\n      <td>53.074468</td>\n      <td>2.732675</td>\n      <td>50.0</td>\n      <td>51.0</td>\n      <td>53.0</td>\n      <td>55.00</td>\n      <td>59.0</td>\n    </tr>\n    <tr>\n      <th>60-69</th>\n      <td>27.0</td>\n      <td>62.925926</td>\n      <td>3.037280</td>\n      <td>60.0</td>\n      <td>60.0</td>\n      <td>62.0</td>\n      <td>65.00</td>\n      <td>69.0</td>\n    </tr>\n    <tr>\n      <th>70+</th>\n      <td>4.0</td>\n      <td>70.750000</td>\n      <td>1.500000</td>\n      <td>70.0</td>\n      <td>70.0</td>\n      <td>70.0</td>\n      <td>70.75</td>\n      <td>73.0</td>\n    </tr>\n  </tbody>\n</table>\n</div>"
     },
     "metadata": {},
     "execution_count": 40
    }
   ],
   "source": [
    "users['age_gp'] = users.age.apply(age_buckets)\n",
    "\n",
    "users.groupby('age_gp').describe()"
   ]
  },
  {
   "cell_type": "code",
   "execution_count": 41,
   "metadata": {},
   "outputs": [
    {
     "output_type": "execute_result",
     "data": {
      "text/plain": "               count       mean        std   min    25%   50%    75%   max\noccupation                                                                \nadministrator   79.0  38.746835  11.123397  21.0  30.00  37.0  48.00  70.0\nartist          28.0  31.392857   8.668116  19.0  25.00  30.0  39.00  48.0\ndoctor           7.0  43.571429  12.501428  28.0  35.50  45.0  48.50  64.0\neducator        95.0  42.010526  10.413264  23.0  33.00  42.0  50.00  63.0\nengineer        67.0  36.388060  11.199236  22.0  28.00  36.0  43.00  70.0\nentertainment   18.0  29.222222  10.056052  15.0  23.00  25.0  33.00  50.0\nexecutive       32.0  38.718750  10.608075  22.0  31.00  38.5  46.00  69.0\nhealthcare      16.0  41.562500  11.313524  22.0  30.50  44.5  49.25  62.0\nhomemaker        7.0  32.571429  10.737119  20.0  24.50  32.0  38.50  50.0\nlawyer          12.0  36.750000  10.830303  21.0  28.75  34.0  47.75  53.0\nlibrarian       51.0  40.000000  11.023611  23.0  30.00  39.0  49.00  69.0\nmarketing       26.0  37.615385   9.474500  24.0  30.25  36.0  42.50  55.0\nnone             9.0  26.555556  13.757826  11.0  16.00  26.0  33.00  55.0\nother          105.0  34.523810  10.738227  13.0  26.00  32.0  44.00  64.0\nprogrammer      66.0  33.121212   9.624512  20.0  27.00  30.0  38.00  63.0\nretired         14.0  63.071429   5.757461  51.0  60.00  63.0  67.25  73.0\nsalesman        12.0  35.666667  14.079859  18.0  28.25  34.0  38.25  66.0\nscientist       31.0  35.548387   7.392964  23.0  30.00  37.0  40.00  55.0\nstudent        196.0  22.081633   5.284081   7.0  19.00  21.0  25.00  42.0\ntechnician      27.0  33.148148   9.867210  21.0  24.00  30.0  40.00  55.0\nwriter          45.0  36.311111  11.423306  18.0  26.00  36.0  48.00  60.0",
      "text/html": "<div>\n<style scoped>\n    .dataframe tbody tr th:only-of-type {\n        vertical-align: middle;\n    }\n\n    .dataframe tbody tr th {\n        vertical-align: top;\n    }\n\n    .dataframe thead th {\n        text-align: right;\n    }\n</style>\n<table border=\"1\" class=\"dataframe\">\n  <thead>\n    <tr style=\"text-align: right;\">\n      <th></th>\n      <th>count</th>\n      <th>mean</th>\n      <th>std</th>\n      <th>min</th>\n      <th>25%</th>\n      <th>50%</th>\n      <th>75%</th>\n      <th>max</th>\n    </tr>\n    <tr>\n      <th>occupation</th>\n      <th></th>\n      <th></th>\n      <th></th>\n      <th></th>\n      <th></th>\n      <th></th>\n      <th></th>\n      <th></th>\n    </tr>\n  </thead>\n  <tbody>\n    <tr>\n      <th>administrator</th>\n      <td>79.0</td>\n      <td>38.746835</td>\n      <td>11.123397</td>\n      <td>21.0</td>\n      <td>30.00</td>\n      <td>37.0</td>\n      <td>48.00</td>\n      <td>70.0</td>\n    </tr>\n    <tr>\n      <th>artist</th>\n      <td>28.0</td>\n      <td>31.392857</td>\n      <td>8.668116</td>\n      <td>19.0</td>\n      <td>25.00</td>\n      <td>30.0</td>\n      <td>39.00</td>\n      <td>48.0</td>\n    </tr>\n    <tr>\n      <th>doctor</th>\n      <td>7.0</td>\n      <td>43.571429</td>\n      <td>12.501428</td>\n      <td>28.0</td>\n      <td>35.50</td>\n      <td>45.0</td>\n      <td>48.50</td>\n      <td>64.0</td>\n    </tr>\n    <tr>\n      <th>educator</th>\n      <td>95.0</td>\n      <td>42.010526</td>\n      <td>10.413264</td>\n      <td>23.0</td>\n      <td>33.00</td>\n      <td>42.0</td>\n      <td>50.00</td>\n      <td>63.0</td>\n    </tr>\n    <tr>\n      <th>engineer</th>\n      <td>67.0</td>\n      <td>36.388060</td>\n      <td>11.199236</td>\n      <td>22.0</td>\n      <td>28.00</td>\n      <td>36.0</td>\n      <td>43.00</td>\n      <td>70.0</td>\n    </tr>\n    <tr>\n      <th>entertainment</th>\n      <td>18.0</td>\n      <td>29.222222</td>\n      <td>10.056052</td>\n      <td>15.0</td>\n      <td>23.00</td>\n      <td>25.0</td>\n      <td>33.00</td>\n      <td>50.0</td>\n    </tr>\n    <tr>\n      <th>executive</th>\n      <td>32.0</td>\n      <td>38.718750</td>\n      <td>10.608075</td>\n      <td>22.0</td>\n      <td>31.00</td>\n      <td>38.5</td>\n      <td>46.00</td>\n      <td>69.0</td>\n    </tr>\n    <tr>\n      <th>healthcare</th>\n      <td>16.0</td>\n      <td>41.562500</td>\n      <td>11.313524</td>\n      <td>22.0</td>\n      <td>30.50</td>\n      <td>44.5</td>\n      <td>49.25</td>\n      <td>62.0</td>\n    </tr>\n    <tr>\n      <th>homemaker</th>\n      <td>7.0</td>\n      <td>32.571429</td>\n      <td>10.737119</td>\n      <td>20.0</td>\n      <td>24.50</td>\n      <td>32.0</td>\n      <td>38.50</td>\n      <td>50.0</td>\n    </tr>\n    <tr>\n      <th>lawyer</th>\n      <td>12.0</td>\n      <td>36.750000</td>\n      <td>10.830303</td>\n      <td>21.0</td>\n      <td>28.75</td>\n      <td>34.0</td>\n      <td>47.75</td>\n      <td>53.0</td>\n    </tr>\n    <tr>\n      <th>librarian</th>\n      <td>51.0</td>\n      <td>40.000000</td>\n      <td>11.023611</td>\n      <td>23.0</td>\n      <td>30.00</td>\n      <td>39.0</td>\n      <td>49.00</td>\n      <td>69.0</td>\n    </tr>\n    <tr>\n      <th>marketing</th>\n      <td>26.0</td>\n      <td>37.615385</td>\n      <td>9.474500</td>\n      <td>24.0</td>\n      <td>30.25</td>\n      <td>36.0</td>\n      <td>42.50</td>\n      <td>55.0</td>\n    </tr>\n    <tr>\n      <th>none</th>\n      <td>9.0</td>\n      <td>26.555556</td>\n      <td>13.757826</td>\n      <td>11.0</td>\n      <td>16.00</td>\n      <td>26.0</td>\n      <td>33.00</td>\n      <td>55.0</td>\n    </tr>\n    <tr>\n      <th>other</th>\n      <td>105.0</td>\n      <td>34.523810</td>\n      <td>10.738227</td>\n      <td>13.0</td>\n      <td>26.00</td>\n      <td>32.0</td>\n      <td>44.00</td>\n      <td>64.0</td>\n    </tr>\n    <tr>\n      <th>programmer</th>\n      <td>66.0</td>\n      <td>33.121212</td>\n      <td>9.624512</td>\n      <td>20.0</td>\n      <td>27.00</td>\n      <td>30.0</td>\n      <td>38.00</td>\n      <td>63.0</td>\n    </tr>\n    <tr>\n      <th>retired</th>\n      <td>14.0</td>\n      <td>63.071429</td>\n      <td>5.757461</td>\n      <td>51.0</td>\n      <td>60.00</td>\n      <td>63.0</td>\n      <td>67.25</td>\n      <td>73.0</td>\n    </tr>\n    <tr>\n      <th>salesman</th>\n      <td>12.0</td>\n      <td>35.666667</td>\n      <td>14.079859</td>\n      <td>18.0</td>\n      <td>28.25</td>\n      <td>34.0</td>\n      <td>38.25</td>\n      <td>66.0</td>\n    </tr>\n    <tr>\n      <th>scientist</th>\n      <td>31.0</td>\n      <td>35.548387</td>\n      <td>7.392964</td>\n      <td>23.0</td>\n      <td>30.00</td>\n      <td>37.0</td>\n      <td>40.00</td>\n      <td>55.0</td>\n    </tr>\n    <tr>\n      <th>student</th>\n      <td>196.0</td>\n      <td>22.081633</td>\n      <td>5.284081</td>\n      <td>7.0</td>\n      <td>19.00</td>\n      <td>21.0</td>\n      <td>25.00</td>\n      <td>42.0</td>\n    </tr>\n    <tr>\n      <th>technician</th>\n      <td>27.0</td>\n      <td>33.148148</td>\n      <td>9.867210</td>\n      <td>21.0</td>\n      <td>24.00</td>\n      <td>30.0</td>\n      <td>40.00</td>\n      <td>55.0</td>\n    </tr>\n    <tr>\n      <th>writer</th>\n      <td>45.0</td>\n      <td>36.311111</td>\n      <td>11.423306</td>\n      <td>18.0</td>\n      <td>26.00</td>\n      <td>36.0</td>\n      <td>48.00</td>\n      <td>60.0</td>\n    </tr>\n  </tbody>\n</table>\n</div>"
     },
     "metadata": {},
     "execution_count": 41
    }
   ],
   "source": [
    "users.groupby('occupation').age.describe()"
   ]
  },
  {
   "cell_type": "code",
   "execution_count": 59,
   "metadata": {},
   "outputs": [
    {
     "output_type": "execute_result",
     "data": {
      "text/plain": "         age gender  occupation zip_code age_gp\nuser_id                                        \n1         24      M  technician    85711  18-29\n2         53      F       other    94043  50-59\n3         23      M      writer    32067  18-29\n4         24      M  technician    43537  18-29\n5         33      F       other    15213  30-39\n...      ...    ...         ...      ...    ...\n930       28      F   scientist    07310  18-29\n931       60      M    educator    33556  60-69\n932       58      M    educator    06437  50-59\n933       28      M     student    48105  18-29\n934       61      M    engineer    22902  60-69\n\n[934 rows x 5 columns]",
      "text/html": "<div>\n<style scoped>\n    .dataframe tbody tr th:only-of-type {\n        vertical-align: middle;\n    }\n\n    .dataframe tbody tr th {\n        vertical-align: top;\n    }\n\n    .dataframe thead th {\n        text-align: right;\n    }\n</style>\n<table border=\"1\" class=\"dataframe\">\n  <thead>\n    <tr style=\"text-align: right;\">\n      <th></th>\n      <th>age</th>\n      <th>gender</th>\n      <th>occupation</th>\n      <th>zip_code</th>\n      <th>age_gp</th>\n    </tr>\n    <tr>\n      <th>user_id</th>\n      <th></th>\n      <th></th>\n      <th></th>\n      <th></th>\n      <th></th>\n    </tr>\n  </thead>\n  <tbody>\n    <tr>\n      <th>1</th>\n      <td>24</td>\n      <td>M</td>\n      <td>technician</td>\n      <td>85711</td>\n      <td>18-29</td>\n    </tr>\n    <tr>\n      <th>2</th>\n      <td>53</td>\n      <td>F</td>\n      <td>other</td>\n      <td>94043</td>\n      <td>50-59</td>\n    </tr>\n    <tr>\n      <th>3</th>\n      <td>23</td>\n      <td>M</td>\n      <td>writer</td>\n      <td>32067</td>\n      <td>18-29</td>\n    </tr>\n    <tr>\n      <th>4</th>\n      <td>24</td>\n      <td>M</td>\n      <td>technician</td>\n      <td>43537</td>\n      <td>18-29</td>\n    </tr>\n    <tr>\n      <th>5</th>\n      <td>33</td>\n      <td>F</td>\n      <td>other</td>\n      <td>15213</td>\n      <td>30-39</td>\n    </tr>\n    <tr>\n      <th>...</th>\n      <td>...</td>\n      <td>...</td>\n      <td>...</td>\n      <td>...</td>\n      <td>...</td>\n    </tr>\n    <tr>\n      <th>930</th>\n      <td>28</td>\n      <td>F</td>\n      <td>scientist</td>\n      <td>07310</td>\n      <td>18-29</td>\n    </tr>\n    <tr>\n      <th>931</th>\n      <td>60</td>\n      <td>M</td>\n      <td>educator</td>\n      <td>33556</td>\n      <td>60-69</td>\n    </tr>\n    <tr>\n      <th>932</th>\n      <td>58</td>\n      <td>M</td>\n      <td>educator</td>\n      <td>06437</td>\n      <td>50-59</td>\n    </tr>\n    <tr>\n      <th>933</th>\n      <td>28</td>\n      <td>M</td>\n      <td>student</td>\n      <td>48105</td>\n      <td>18-29</td>\n    </tr>\n    <tr>\n      <th>934</th>\n      <td>61</td>\n      <td>M</td>\n      <td>engineer</td>\n      <td>22902</td>\n      <td>60-69</td>\n    </tr>\n  </tbody>\n</table>\n<p>934 rows × 5 columns</p>\n</div>"
     },
     "metadata": {},
     "execution_count": 59
    }
   ],
   "source": [
    "users.head(934)"
   ]
  },
  {
   "cell_type": "code",
   "execution_count": 8,
   "metadata": {},
   "outputs": [
    {
     "output_type": "execute_result",
     "data": {
      "text/plain": "DatetimeIndex(['2018-01-01', '2018-01-01', '2018-01-01'], dtype='datetime64[ns]', freq=None)"
     },
     "metadata": {},
     "execution_count": 8
    }
   ],
   "source": [
    "dti = pd.to_datetime(['1/1/2018', np.datetime64('2018-01-01'),dt.datetime(2018, 1, 1)])\n",
    "dti"
   ]
  },
  {
   "cell_type": "code",
   "execution_count": 16,
   "metadata": {},
   "outputs": [
    {
     "output_type": "execute_result",
     "data": {
      "text/plain": "DatetimeIndex(['2018-01-01 00:00:00', '2018-01-01 01:00:00',\n               '2018-01-01 02:00:00', '2018-01-01 03:00:00',\n               '2018-01-01 04:00:00'],\n              dtype='datetime64[ns]', freq='H')"
     },
     "metadata": {},
     "execution_count": 16
    }
   ],
   "source": [
    "dti = pd.date_range('2018-01-01', periods=5, freq='H')\n",
    "dti"
   ]
  },
  {
   "cell_type": "code",
   "execution_count": 17,
   "metadata": {},
   "outputs": [
    {
     "output_type": "execute_result",
     "data": {
      "text/plain": "DatetimeIndex(['2018-01-01 00:00:00+00:00', '2018-01-01 01:00:00+00:00',\n               '2018-01-01 02:00:00+00:00', '2018-01-01 03:00:00+00:00',\n               '2018-01-01 04:00:00+00:00'],\n              dtype='datetime64[ns, UTC]', freq='H')"
     },
     "metadata": {},
     "execution_count": 17
    }
   ],
   "source": [
    "dti = dti.tz_localize('UTC')\n",
    "dti"
   ]
  },
  {
   "cell_type": "code",
   "execution_count": 18,
   "metadata": {},
   "outputs": [
    {
     "output_type": "execute_result",
     "data": {
      "text/plain": "DatetimeIndex(['2018-01-01 00:00:00+00:00', '2018-01-01 01:00:00+00:00',\n               '2018-01-01 02:00:00+00:00', '2018-01-01 03:00:00+00:00',\n               '2018-01-01 04:00:00+00:00'],\n              dtype='datetime64[ns, UTC]', freq='H')"
     },
     "metadata": {},
     "execution_count": 18
    }
   ],
   "source": [
    "dti.tz_convert('US/Pacific')\n",
    "dti"
   ]
  }
 ],
 "metadata": {
  "language_info": {
   "codemirror_mode": {
    "name": "ipython",
    "version": 3
   },
   "file_extension": ".py",
   "mimetype": "text/x-python",
   "name": "python",
   "nbconvert_exporter": "python",
   "pygments_lexer": "ipython3",
   "version": "3.7.7-final"
  },
  "orig_nbformat": 2,
  "kernelspec": {
   "name": "python3",
   "display_name": "Python 3"
  }
 },
 "nbformat": 4,
 "nbformat_minor": 2
}