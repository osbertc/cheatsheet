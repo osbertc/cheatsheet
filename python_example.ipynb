{
 "cells": [
  {
   "cell_type": "markdown",
   "metadata": {},
   "source": [
    "## Object-oreiented programming (Class-def) example:"
   ]
  },
  {
   "cell_type": "code",
   "execution_count": 1,
   "metadata": {},
   "outputs": [
    {
     "output_type": "execute_result",
     "data": {
      "text/plain": "'My name is Bond, James Bond!'"
     },
     "metadata": {},
     "execution_count": 1
    }
   ],
   "source": [
    "def greet(first_name, last_name):\n",
    "    greeting = 'My name is ' + last_name + ', ' + first_name + ' ' + last_name + '!'\n",
    "    return greeting\n",
    "\n",
    "# Replace with your first and last name.\n",
    "# That is, unless your name is already James Bond.\n",
    "greet('James', 'Bond')"
   ]
  },
  {
   "cell_type": "code",
   "execution_count": 8,
   "metadata": {},
   "outputs": [],
   "source": [
    "# a pen is created, a pen can have colour, and inital colour is none\n",
    "class Pen(object):\n",
    "    def __init__(self, color_options):\n",
    "        self.active_color = None\n",
    "        self.color_options = color_options\n",
    "# the pen can change its active colour, ie, choice    \n",
    "    def press_color(self, choice):\n",
    "        self.active_color = self.color_options[choice]\n",
    "\n",
    "# here we have 2 pens, rbg_pen with 3 colours, and by_pen with 2 colours\n",
    "rbg_pen = Pen(['red','blue','green'])\n",
    "by_pen = Pen(['blue','yellow'])"
   ]
  },
  {
   "cell_type": "code",
   "execution_count": 9,
   "metadata": {
    "tags": []
   },
   "outputs": [
    {
     "output_type": "stream",
     "name": "stdout",
     "text": "blue\n"
    }
   ],
   "source": [
    "# for the rbg_pen, we pressed and choose the colour blue, index 1\n",
    "rbg_pen.press_color(1)\n",
    "print(rbg_pen.active_color)"
   ]
  },
  {
   "cell_type": "markdown",
   "metadata": {},
   "source": [
    "## if else example:"
   ]
  },
  {
   "cell_type": "code",
   "execution_count": 1,
   "metadata": {},
   "outputs": [],
   "source": [
    "def grades(score,sex):\n",
    "    if sex == 'male':\n",
    "        if (score > 70):\n",
    "            return 'A, male'\n",
    "        elif score > 50 :\n",
    "            return 'B, male'\n",
    "        elif score > 30 :\n",
    "            return 'C, male'\n",
    "        else:\n",
    "            return 'D, male'\n",
    "    if sex == 'female':\n",
    "        if (score > 70):\n",
    "            return 'A, female'\n",
    "        elif score > 50 :\n",
    "            return 'B, female'\n",
    "        elif score > 30 :\n",
    "            return 'C, female'\n",
    "        else:\n",
    "            return 'D, female'"
   ]
  },
  {
   "cell_type": "code",
   "execution_count": 2,
   "metadata": {},
   "outputs": [
    {
     "output_type": "stream",
     "name": "stdout",
     "text": "may is : A, female\n"
    }
   ],
   "source": [
    "print('may is :', grades(570, 'female'))"
   ]
  },
  {
   "cell_type": "markdown",
   "metadata": {},
   "source": [
    "# To compare 2 different csv"
   ]
  },
  {
   "cell_type": "code",
   "execution_count": null,
   "metadata": {},
   "outputs": [],
   "source": [
    "from csv_diff import load_csv, compare\n",
    "diff = compare(\n",
    "    load_csv(open(\"a.csv\",encoding=\"utf-8\"), key=\"id\"),\n",
    "    load_csv(open(\"b.csv\",encoding=\"utf-8\"), key=\"id\")\n",
    ")"
   ]
  },
  {
   "cell_type": "code",
   "execution_count": 19,
   "metadata": {},
   "outputs": [
    {
     "output_type": "stream",
     "name": "stdout",
     "text": [
      "black\nBLACK\nBlack\nlatte\nLATTE\nLatte\ncappuccino\nCAPPUCCINO\nCappuccino\nespresso\nESPRESSO\nEspresso\nmocha\nMOCHA\nMocha\nflat white\nFLAT WHITE\nFlat White\nirish\nIRISH\nIrish\n"
     ]
    }
   ],
   "source": [
    "coffees_list = ['black', 'latte', 'cappuccino', 'espresso', 'mocha', 'flat white', 'irish']\n",
    "for coffee in coffees_list:\n",
    "    print(coffee.lower())\n",
    "    print(coffee.upper())\n",
    "    print(coffee.title())"
   ]
  },
  {
   "cell_type": "code",
   "execution_count": 18,
   "metadata": {},
   "outputs": [
    {
     "output_type": "stream",
     "name": "stdout",
     "text": [
      "cappuccino\n"
     ]
    }
   ],
   "source": [
    "order = 'cappuccino'\n",
    " \n",
    "coffees_list = ['black', 'latte', 'cappuccino', 'espresso', 'mocha', 'flat white', 'irish']\n",
    " \n",
    "for coffee in coffees_list:\n",
    "    if coffee != order:\n",
    "        pass\n",
    "    else:\n",
    "        print(coffee)"
   ]
  },
  {
   "cell_type": "code",
   "execution_count": 5,
   "metadata": {},
   "outputs": [
    {
     "output_type": "stream",
     "name": "stdout",
     "text": [
      "odd\neven\nodd\neven\nodd\neven\nodd\neven\nodd\neven\n"
     ]
    }
   ],
   "source": [
    " num = [11, 12, 13, 14, 15, 16, 17, 18, 19, 20]\n",
    "for value in num:\n",
    "    if value % 2 == 0:\n",
    "        print('even')\n",
    "    else:\n",
    "        print('odd')"
   ]
  },
  {
   "cell_type": "code",
   "execution_count": 7,
   "metadata": {},
   "outputs": [
    {
     "output_type": "stream",
     "name": "stdout",
     "text": [
      "16\n14\n[16, 15, 14, 13]\n[20, 19, 18, 17]\n[16, 15, 14, 13, 12, 11]\n0\n[20, 19, 18, 17, 16, 15, 14, 13, 12, 11]\n"
     ]
    }
   ],
   "source": [
    "print(num[4])\n",
    "print(num[-4])\n",
    "print(num[4:8])\n",
    "print(num[:4])\n",
    "print(num[4:])\n",
    "print(num.index(20))\n",
    "num.count(10)\n",
    "num.count(20)\n",
    "\n",
    "num.sort(reverse = True)\n",
    "print(num)\n"
   ]
  },
  {
   "cell_type": "code",
   "execution_count": 8,
   "metadata": {},
   "outputs": [
    {
     "output_type": "stream",
     "name": "stdout",
     "text": [
      "[3, True, 'Michael', 2.0]\n"
     ]
    }
   ],
   "source": [
    "# Define a list\n",
    "heterogenousElements = [3, True, 'Michael', 2.0]\n",
    "print(heterogenousElements)"
   ]
  },
  {
   "cell_type": "code",
   "execution_count": 11,
   "metadata": {},
   "outputs": [],
   "source": [
    "coffees_price = [\n",
    "    {'black':{\n",
    "        'size':['small','regular','large'],\n",
    "        'price': ['32','39','42']\n",
    "     }\n",
    "    },\n",
    "    {'latte':{\n",
    "       'size': ['small','regular','large'],\n",
    "       'price':['32','39','42']\n",
    "     }\n",
    "    },\n",
    "    {'cappuccino':{\n",
    "       'size': ['small','regular','large'],\n",
    "       'price':['32','39','42']\n",
    "     }\n",
    "    }\n",
    "  ]"
   ]
  },
  {
   "cell_type": "code",
   "execution_count": 12,
   "metadata": {},
   "outputs": [
    {
     "output_type": "stream",
     "name": "stdout",
     "text": [
      "dict_keys(['black'])\ndict_keys(['latte'])\ndict_keys(['cappuccino'])\n"
     ]
    }
   ],
   "source": [
    " for coffee in coffees_price:\n",
    "    print(coffee.keys())"
   ]
  }
 ],
 "metadata": {
  "language_info": {
   "codemirror_mode": {
    "name": "ipython",
    "version": 3
   },
   "file_extension": ".py",
   "mimetype": "text/x-python",
   "name": "python",
   "nbconvert_exporter": "python",
   "pygments_lexer": "ipython3",
   "version": "3.7.7-final"
  },
  "orig_nbformat": 2,
  "kernelspec": {
   "name": "python3",
   "display_name": "Python 3",
   "language": "python"
  }
 },
 "nbformat": 4,
 "nbformat_minor": 2
}