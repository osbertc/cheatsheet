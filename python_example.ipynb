{
 "cells": [
   {
   "cell_type": "markdown",
   "metadata": {},
   "source": [
     "| JSON | Python |  
     | object | dict |  
     | array | list |  
     | string | str |  
     | number(int) | int |  
     | number(real) | float |  
     | true | True |  
     | false | False | 
     | null | None |  
     " 
   ]
  },  
  {
   "cell_type": "markdown",
   "metadata": {},
   "source": [
    "## Object-oreiented programming (Class-def) example:"
   ]
  },
  {
   "cell_type": "code",
   "execution_count": 2,
   "metadata": {},
   "outputs": [],
   "source": [
    "\n",
    "class Pen(object):\n",
    "    def __init__(self, color_options):\n",
    "        self.active_color = None\n",
    "        self.color_options = color_options\n",
    "    \n",
    "    def press_color(self, choice):\n",
    "        self.active_color = self.color_options[choice]\n",
    "\n",
    "\n"
   ]
  },
  {
   "cell_type": "code",
   "execution_count": 4,
   "metadata": {},
   "outputs": [
    {
     "output_type": "stream",
     "name": "stdout",
     "text": "blue\n"
    }
   ],
   "source": [
    "    rbg_pen = Pen(['red','blue','green'])\n",
    "    by_pen = Pen(['blue','yellow'])\n",
    "\n",
    "\n",
    "rbg_pen.press_color(1)\n",
    "print(rbg_pen.active_color)\n",
    "\n"
   ]
  },
  {
   "cell_type": "markdown",
   "metadata": {},
   "source": [
    "## if else example:"
   ]
  },
  {
   "cell_type": "code",
   "execution_count": 1,
   "metadata": {},
   "outputs": [],
   "source": [
    "def grades(score,sex):\n",
    "    if sex == 'male':\n",
    "        if (score > 70):\n",
    "            return 'A, male'\n",
    "        elif score > 50 :\n",
    "            return 'B, male'\n",
    "        elif score > 30 :\n",
    "            return 'C, male'\n",
    "        else:\n",
    "            return 'D, male'\n",
    "    if sex == 'female':\n",
    "        if (score > 70):\n",
    "            return 'A, female'\n",
    "        elif score > 50 :\n",
    "            return 'B, female'\n",
    "        elif score > 30 :\n",
    "            return 'C, female'\n",
    "        else:\n",
    "            return 'D, female'"
   ]
  },
  {
   "cell_type": "code",
   "execution_count": 2,
   "metadata": {},
   "outputs": [
    {
     "output_type": "stream",
     "name": "stdout",
     "text": "may is : A, female\n"
    }
   ],
   "source": [
    "print('may is :', grades(570, 'female'))"
   ]
  }
 ],
 "metadata": {
  "language_info": {
   "codemirror_mode": {
    "name": "ipython",
    "version": 3
   },
   "file_extension": ".py",
   "mimetype": "text/x-python",
   "name": "python",
   "nbconvert_exporter": "python",
   "pygments_lexer": "ipython3",
   "version": "3.7.7-final"
  },
  "orig_nbformat": 2,
  "kernelspec": {
   "name": "python3",
   "display_name": "Python 3"
  }
 },
 "nbformat": 4,
 "nbformat_minor": 2
}
