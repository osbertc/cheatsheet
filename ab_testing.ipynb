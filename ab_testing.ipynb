{
 "metadata": {
  "language_info": {
   "codemirror_mode": {
    "name": "ipython",
    "version": 3
   },
   "file_extension": ".py",
   "mimetype": "text/x-python",
   "name": "python",
   "nbconvert_exporter": "python",
   "pygments_lexer": "ipython3",
   "version": "3.7.7-final"
  },
  "orig_nbformat": 2,
  "kernelspec": {
   "name": "python3",
   "display_name": "Python 3",
   "language": "python"
  }
 },
 "nbformat": 4,
 "nbformat_minor": 2,
 "cells": [
  {
   "cell_type": "code",
   "execution_count": 1,
   "metadata": {},
   "outputs": [],
   "source": [
    "import pandas\n",
    "import requests\n",
    "import tqdm \n"
   ]
  },
  {
   "cell_type": "code",
   "execution_count": null,
   "metadata": {},
   "outputs": [],
   "source": [
    "def nlp_caller(url_path: str='', test_phrase:str=''):\n",
    "    url = url_path\n",
    "    param = {'text': test_phrase}\n",
    "    res = requests.post(url, json=param)\n",
    "    data = res.json()\n",
    "    print(data)"
   ]
  },
  {
   "cell_type": "code",
   "execution_count": null,
   "metadata": {},
   "outputs": [],
   "source": [
    "\"http://192.168.0.13:3005/housing_intent_extract\""
   ]
  },
  {
   "cell_type": "code",
   "execution_count": 5,
   "metadata": {},
   "outputs": [
    {
     "output_type": "stream",
     "name": "stdout",
     "text": [
      "{'Action': '', 'Agent': 'mental_health (85)', 'Concept': '有啲咩症狀', 'ID': '21464', 'Name': '主要病徵', 'OriginalScore': 0.8723, 'ResolvedQuery': '有咩病癥', 'Responses': ['symptoms'], 'Score': 0.8723, 'Speech': 'symptoms', 'Success': True, 'is_bottom_menu_show': False, 'is_card_show': True, 'is_menu_show': False, 'messages': [{'input_disabled': False, 'input_placeholder': 'Type something ...', 'style': 'pulse', 'text': 'symptoms', 'type': 'text'}], 'prediction': [{'concept': '有啲咩症狀', 'intent': {'action': '', 'booth_num': '', 'category_id': '1514', 'concepts': ['患咗精神分裂症會點', '症狀係點樣', '症狀係', '會有咩症狀', '有啲咩症狀', '甚麼症狀顯示患上精神分裂症', '有什麼主要症狀', '有主要症狀', 'symptoms', '主要病徵', '症狀有哪些', '症狀有', '患咗精神分裂症會點樣', '患咗精神分裂症會', '如果有精神分裂症會點樣', '如果有精神分裂症會', '主要症狀', '症狀', '精神分裂症有啲咩病徵'], 'domain': '主要病徵', 'id': '21464', 'imageurls': [''], 'parentid': '0', 'responses': ['symptoms'], 'status': '1', 'threshold': '50.00'}, 'original_score': 0.8723, 'score': 0.8723}, {'concept': '咩係紊亂症狀', 'intent': {'action': '', 'booth_num': '', 'category_id': '1514', 'concepts': ['有紊亂症狀個陣會點', '有啲咩紊亂症狀', '有什麼紊亂症狀', '有紊亂症狀', '咩係紊亂症狀', '紊亂症狀係咩嚟', '紊亂症狀嚟', '什麼是紊亂症狀', '什麼紊亂症狀', 'disorganized_sym', '紊亂症狀', '乜嘢係紊亂症狀'], 'domain': '紊亂症狀', 'id': '21470', 'imageurls': [''], 'parentid': '0', 'responses': ['disorganized_sym'], 'status': '1', 'threshold': '50.00'}, 'original_score': 0.8293, 'score': 0.8293}, {'concept': '會有咩症狀', 'intent': {'action': '', 'booth_num': '', 'category_id': '1514', 'concepts': ['患咗精神分裂症會點', '症狀係點樣', '症狀係', '會有咩症狀', '有啲咩症狀', '甚麼症狀顯示患上精神分裂症', '有什麼主要症狀', '有主要症狀', 'symptoms', '主要病徵', '症狀有哪些', '症狀有', '患咗精神分裂症會點樣', '患咗精神分裂症會', '如果有精神分裂症會點樣', '如果有精神分裂症會', '主要症狀', '症狀', '精神分裂症有啲咩病徵'], 'domain': '主要病徵', 'id': '21464', 'imageurls': [''], 'parentid': '0', 'responses': ['symptoms'], 'status': '1', 'threshold': '50.00'}, 'original_score': 0.8135, 'score': 0.8135}, {'concept': '症狀係', 'intent': {'action': '', 'booth_num': '', 'category_id': '1514', 'concepts': ['患咗精神分裂症會點', '症狀係點樣', '症狀係', '會有咩症狀', '有啲咩症狀', '甚麼症狀顯示患上精神分裂症', '有什麼主要症狀', '有主要症狀', 'symptoms', '主要病徵', '症狀有哪些', '症狀有', '患咗精神分裂症會點樣', '患咗精神分裂症會', '如果有精神分裂症會點樣', '如果有精神分裂症會', '主要症狀', '症狀', '精神分裂症有啲咩病徵'], 'domain': '主要病徵', 'id': '21464', 'imageurls': [''], 'parentid': '0', 'responses': ['symptoms'], 'status': '1', 'threshold': '50.00'}, 'original_score': 0.8114, 'score': 0.8114}, {'concept': '咩係陰性症狀', 'intent': {'action': '', 'booth_num': '', 'category_id': '1514', 'concepts': ['有陰性症狀個陣會點', '陰性症狀係點樣', '陰性症狀係', '有啲咩陰性症狀', '咩係陰性症狀', '陰性症狀係咩嚟', '陰性症狀嚟', '什麼是陰性症狀', '什麼陰性症狀', '有什麼陰性症狀', '有陰性症狀', 'negative_sym', '乜嘢係陰性症狀'], 'domain': '陰性症狀', 'id': '21469', 'imageurls': [''], 'parentid': '0', 'responses': ['negative_sym'], 'status': '1', 'threshold': '50.00'}, 'original_score': 0.8088, 'score': 0.8088}, {'concept': '有啲咩紊亂症狀', 'intent': {'action': '', 'booth_num': '', 'category_id': '1514', 'concepts': ['有紊亂症狀個陣會點', '有啲咩紊亂症狀', '有什麼紊亂症狀', '有紊亂症狀', '咩係紊亂症狀', '紊亂症狀係咩嚟', '紊亂症狀嚟', '什麼是紊亂症狀', '什麼紊亂症狀', 'disorganized_sym', '紊亂症狀', '乜嘢係紊亂症狀'], 'domain': '紊亂症狀', 'id': '21470', 'imageurls': [''], 'parentid': '0', 'responses': ['disorganized_sym'], 'status': '1', 'threshold': '50.00'}, 'original_score': 0.7951, 'score': 0.7951}, {'concept': '咩係認知症狀', 'intent': {'action': '', 'booth_num': '', 'category_id': '1514', 'concepts': ['有啲咩認知症狀', '有什麼認知症狀', '有認知症狀', '咩係認知症狀', '認知症狀係咩嚟', '認知症狀嚟', '什麼是認知症狀', '什麼認知症狀', 'cognitive_sym', '認知症狀', '乜嘢係認知症狀'], 'domain': '認知症狀', 'id': '21471', 'imageurls': [''], 'parentid': '0', 'responses': ['cognitive_sym'], 'status': '1', 'threshold': '50.00'}, 'original_score': 0.7948, 'score': 0.7948}, {'concept': '病因是什麼', 'intent': {'action': '', 'booth_num': '', 'category_id': '1490', 'concepts': ['精神分裂症的成因是甚麼', '精神分裂症的成因', '乜嘢引起', '點解會有', '乜嘢原因引致', '係由啲乜嘢引起㗎', '係由啲引起㗎', '咩原因會有依個病', '哪些原因會引發', '病因是什麼', '病因', '有沒有什麼明確病因', '有沒明確病因', '比較明確病因清楚嗎', '精神分裂症的病因是什麼', '精神分裂症的病因', '成因', 'schizo_cause', '有咩會引發', '有咩會引發精神分裂'], 'domain': '精神分裂症的成因', 'id': '20550', 'imageurls': [''], 'parentid': '0', 'responses': ['schizo_cause'], 'status': '1', 'threshold': '50.00'}, 'original_score': 0.7885, 'score': 0.7885}, {'concept': '紊亂症狀係咩嚟', 'intent': {'action': '', 'booth_num': '', 'category_id': '1514', 'concepts': ['有紊亂症狀個陣會點', '有啲咩紊亂症狀', '有什麼紊亂症狀', '有紊亂症狀', '咩係紊亂症狀', '紊亂症狀係咩嚟', '紊亂症狀嚟', '什麼是紊亂症狀', '什麼紊亂症狀', 'disorganized_sym', '紊亂症狀', '乜嘢係紊亂症狀'], 'domain': '紊亂症狀', 'id': '21470', 'imageurls': [''], 'parentid': '0', 'responses': ['disorganized_sym'], 'status': '1', 'threshold': '50.00'}, 'original_score': 0.7774, 'score': 0.7774}, {'concept': '咩係陽性症狀', 'intent': {'action': '', 'booth_num': '', 'category_id': '1514', 'concepts': ['有陽性症狀個陣會點', '陽性症狀係點樣', '陽性症狀係', '有啲咩陽性症狀', '有什麼陽性症狀', '有陽性症狀', '咩係陽性症狀', '陽性症狀係咩嚟', '陽性症狀嚟', '什麼是陽性症狀', '什麼陽性症狀', 'positive_sym', '陽性症狀', '乜嘢係陽性症狀'], 'domain': '陽性症狀', 'id': '21465', 'imageurls': [''], 'parentid': '0', 'responses': ['positive_sym'], 'status': '1', 'threshold': '50.00'}, 'original_score': 0.7751, 'score': 0.7751}], 'success': True}\n"
     ]
    }
   ],
   "source": [
    "url_path = 'https://nlp-dev.abapi.info/chat/mental-health?access_token=XXX'\n",
    "test_phrase = '有咩病癥'\n",
    "nlp_caller(url_path, test_phrase)"
   ]
  },
  {
   "cell_type": "code",
   "execution_count": 6,
   "metadata": {},
   "outputs": [
    {
     "output_type": "execute_result",
     "data": {
      "text/plain": [
       "<function __main__.tim_nlp_api(text: str = '')>"
      ]
     },
     "metadata": {},
     "execution_count": 6
    }
   ],
   "source": [
    "tim_nlp_api"
   ]
  }
 ]
}